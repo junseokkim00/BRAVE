{
 "cells": [
  {
   "cell_type": "code",
   "execution_count": 1,
   "metadata": {},
   "outputs": [
    {
     "name": "stderr",
     "output_type": "stream",
     "text": [
      "/home/junseokkim00/anaconda3/envs/rp2/lib/python3.9/site-packages/tqdm/auto.py:21: TqdmWarning: IProgress not found. Please update jupyter and ipywidgets. See https://ipywidgets.readthedocs.io/en/stable/user_install.html\n",
      "  from .autonotebook import tqdm as notebook_tqdm\n"
     ]
    }
   ],
   "source": [
    "from datasets import load_dataset\n",
    "from collections import defaultdict\n",
    "ds = load_dataset('hotpotqa/hotpot_qa', 'fullwiki', trust_remote_code=True)"
   ]
  },
  {
   "cell_type": "code",
   "execution_count": 2,
   "metadata": {},
   "outputs": [],
   "source": [
    "# ds_train_rm_distract\n",
    "import random\n",
    "\n",
    "k=100\n",
    "indices = random.sample(range(len(ds['train'])), k)\n",
    "test_ds = ds['train'].select(indices)"
   ]
  },
  {
   "cell_type": "code",
   "execution_count": 3,
   "metadata": {},
   "outputs": [
    {
     "data": {
      "text/plain": [
       "{'id': '5abbbdf355429931dba144d9',\n",
       " 'question': 'Who voiced the character of the person who helped Ned Flanders spread the religious belief of creationism in the episode The Monkey Suit ?',\n",
       " 'answer': 'Harry Shearer,',\n",
       " 'type': 'bridge',\n",
       " 'level': 'medium',\n",
       " 'supporting_facts': {'title': ['The Monkey Suit', 'Reverend Lovejoy'],\n",
       "  'sent_id': [3, 1]},\n",
       " 'context': {'title': ['Young Earth creationism',\n",
       "   'The Monkey Suit',\n",
       "   'Progressive creationism',\n",
       "   'Okilly Dokilly',\n",
       "   'Reverend Lovejoy',\n",
       "   \"I'm Goin' to Praiseland\",\n",
       "   'Maintenance of Religious Harmony Act',\n",
       "   'Alone Again, Natura-Diddily',\n",
       "   'Viva Ned Flanders',\n",
       "   'When Flanders Failed'],\n",
       "  'sentences': [['Young Earth creationism (YEC) is a form of creationism, a religious belief which holds that the universe, Earth, and all life on Earth were created by direct acts of God less than 10,000 years ago.',\n",
       "    \" Its primary adherents are Christians who subscribe to a literal interpretation of the creation narrative in the Bible's Book of Genesis and believe that God created the Earth in six 24-hour days.\",\n",
       "    ' In contrast to YEC, old Earth creationism is the belief in a metaphorical interpretation of the Book of Genesis and the scientifically-determined estimated ages of the Earth and Universe.'],\n",
       "   ['\"The Monkey Suit\" is the twenty-first episode of the seventeenth season of the American animated sitcom \"The Simpsons\".',\n",
       "    ' It originally aired on the Fox network in the United States on May 14, 2006.',\n",
       "    ' In the episode, Ned Flanders is shocked after seeing a new display at the museum about evolution.',\n",
       "    ' Together with Reverend Lovejoy, he spreads the religious belief of creationism in Springfield, and at a later town meeting, teaching evolution is made illegal.',\n",
       "    ' As a result, Lisa decides to hold secret classes for people interested in evolution.',\n",
       "    ' However, she is quickly arrested and a trial against her is initiated.'],\n",
       "   ['Progressive creationism (see for comparison intelligent design) is the religious belief that God created new forms of life gradually over a period of hundreds of millions of years.',\n",
       "    ' As a form of Old Earth creationism, it accepts mainstream geological and cosmological estimates for the age of the Earth, some tenets of biology such as microevolution as well as archaeology to make its case.',\n",
       "    ' In this view creation occurred in rapid bursts in which all \"kinds\" of plants and animals appear in stages lasting millions of years.',\n",
       "    ' The bursts are followed by periods of stasis or equilibrium to accommodate new arrivals.',\n",
       "    ' These bursts represent instances of God creating new types of organisms by divine intervention.',\n",
       "    ' As viewed from the archaeological record, progressive creationism holds that \"species do not gradually appear by the steady transformation of its ancestors; [but] appear all at once and \"fully formed.\"',\n",
       "    ' The view rejects macroevolution, claiming it is biologically untenable and not supported by the fossil record, and it rejects the concept of universal descent from a last universal common ancestor.',\n",
       "    ' Thus the evidence for macroevolution is claimed to be false, but microevolution is accepted as a genetic parameter designed by the Creator into the fabric of genetics to allow for environmental adaptations and survival.',\n",
       "    ' Generally, it is viewed by proponents as a middle ground between literal creationism and evolution.'],\n",
       "   ['Okilly Dokilly is a metalcore band from Phoenix, Arizona that plays \"Nedal\" music; a subgenre of metal music themed around the animated character Ned Flanders from the television series \"The Simpsons\".',\n",
       "    \" All five of the band's members perform dressed as Flanders, and the majority of the lyrics to their songs are quotes of his.\",\n",
       "    ' The band members go by the names Head Ned, Bled Ned, Red Ned, Thread Ned and Stead Ned.',\n",
       "    ' The unusual concept behind the group has resulted in worldwide attention.',\n",
       "    ' The lead singer, Head Ned, said that Nedal music is \"Not as fast as Bartcore, and a little cleaner than Krusty Punk”, references to hardcore punk and crust punk, respectively.'],\n",
       "   ['Reverend Timothy \"Tim\" Lovejoy is a recurring character in the animated television series \"The Simpsons\".',\n",
       "    ' He is voiced by Harry Shearer, and first appeared in the episode \"The Telltale Head\".',\n",
       "    ' Lovejoy is the minister at The First Church of Springfield—the Protestant church in Springfield.',\n",
       "    \" Initially kind-hearted and ambitious, Lovejoy has become apathetic towards others because of Ned Flanders's constant asinine scrupulosity.\"],\n",
       "   ['\"I\\'m Goin\\' to Praiseland\" is the nineteenth episode of the twelfth season of the American animated sitcom \"The Simpsons\".',\n",
       "    ' It originally aired on the Fox network in the United States on May 6, 2001.',\n",
       "    ' In the episode, Ned Flanders builds a Christian-themed amusement park to commemorate his dead wife, Maude Flanders.',\n",
       "    ' The episode marked the return of the character Rachel Jordan (voiced by Shawn Colvin), who had previously appeared in the season eleven episode \"Alone Again, Natura-Diddily\".',\n",
       "    ' Since airing, \"I\\'m Goin\\' to Praiseland\" has received mixed reviews from critics.'],\n",
       "   ['The Maintenance of Religious Harmony Act (\"MRHA\") is a Singapore statute which, according to its long title, provides for the maintenance of religious harmony, for the establishment of a Presidential Council for Religious Harmony (\"PCRH\"), and for matters connected therewith.',\n",
       "    ' The Act, which was passed on 9 November 1990 and came into force on 31 March 1992, empowers the Minister for Home Affairs to make a restraining order against a person who is in a position of authority in any religious group or institution if the Minister is satisfied that the person has committed or is attempting to commit any of the following acts: causing feelings of enmity, hatred, ill-will or hostility between different religious groups; or promoting a political cause, carrying out subversive activities, or exciting disaffection against the President or the Government under the guise of propagating or practising a religious belief.',\n",
       "    ' A restraining order may also be made against a person who incites, instigates or encourages any religious leader or any religious group or institution to commit the above acts; or a person who is not a religious leader who causes or attempts to cause feelings of enmity, hatred, ill-will or hostility between different religious groups.',\n",
       "    ' A restraining order made against a religious leader may direct that he or she must obtain the permission of the Minister before addressing members of any religious group or institution, assisting or contributing to religious publications, or holding office in the editorial board or committee of such publications.',\n",
       "    ' Breaching a restraining order is a criminal offence.'],\n",
       "   ['\"Alone Again, Natura-Diddily\" is the fourteenth episode of the eleventh season of \"The Simpsons\", and marks the final regular appearance of the character Maude Flanders.',\n",
       "    ' In the episode, she is killed in an accident while watching a speedway race, devastating Ned Flanders and prompting Homer to find a new woman for his grieving neighbor.',\n",
       "    ' After a series of unsuccessful dates, Ned begins to question his faith in God.',\n",
       "    ' However, his faith is restored after hearing the female lead singer of a Christian rock band, played by guest star Shawn Colvin, sing in church.',\n",
       "    ' The name of the episode is in honor to the song \"Alone Again (Naturally)\" by Gilbert O\\'Sullivan.'],\n",
       "   ['\"Viva Ned Flanders\" is the tenth episode of \"The Simpsons\"\\' tenth season.',\n",
       "    ' It first aired on the Fox network in the United States on January 10, 1999.',\n",
       "    ' In the episode, Ned Flanders, who is revealed to be 60 years old, feels that he has not lived his life to the fullest.',\n",
       "    ' He asks for help from his neighbor, Homer Simpson, who takes Ned to Las Vegas to show him \"the right way to live\".',\n",
       "    ' However, while there, the two become intoxicated and accidentally married two cocktail waitresses.'],\n",
       "   ['\"When Flanders Failed\" is the third episode of \"The Simpsons\"<nowiki>\\'</nowiki> third season.',\n",
       "    ' It originally aired on the Fox network in the United States on October 3, 1991.',\n",
       "    \" In the episode, Homer makes a wish for Ned Flanders's new left-handed store to go out of business.\",\n",
       "    ' The wish comes true and gets the Flanders family into financial troubles.',\n",
       "    ' Ned is forced to sell his possessions, and Homer gleefully buys many of his things.',\n",
       "    \" When finding out that Ned's house is to be repossessed, Homer feels guilty and decides to get the store back in business by telling all the left-handed citizens about it.\",\n",
       "    ' Meanwhile, Bart takes karate lessons but quits after discovering that it is not as interesting as he had expected it to be.']]}}"
      ]
     },
     "execution_count": 3,
     "metadata": {},
     "output_type": "execute_result"
    }
   ],
   "source": [
    "test_ds[0]"
   ]
  },
  {
   "cell_type": "code",
   "execution_count": 6,
   "metadata": {},
   "outputs": [
    {
     "ename": "ModuleNotFoundError",
     "evalue": "No module named 'utils'",
     "output_type": "error",
     "traceback": [
      "\u001b[0;31m---------------------------------------------------------------------------\u001b[0m",
      "\u001b[0;31mModuleNotFoundError\u001b[0m                       Traceback (most recent call last)",
      "Cell \u001b[0;32mIn[6], line 1\u001b[0m\n\u001b[0;32m----> 1\u001b[0m \u001b[38;5;28;01mfrom\u001b[39;00m \u001b[38;5;21;01mutils\u001b[39;00m \u001b[38;5;28;01mimport\u001b[39;00m questionDecompose, evidenceExtractor, run_RAG\n\u001b[1;32m      2\u001b[0m \u001b[38;5;28;01mfrom\u001b[39;00m \u001b[38;5;21;01mLLMs\u001b[39;00m \u001b[38;5;28;01mimport\u001b[39;00m set_model\n\u001b[1;32m      3\u001b[0m total_cnt\u001b[38;5;241m=\u001b[39m\u001b[38;5;241m0\u001b[39m\n",
      "\u001b[0;31mModuleNotFoundError\u001b[0m: No module named 'utils'"
     ]
    }
   ],
   "source": [
    "from utils import questionDecompose, evidenceExtractor, run_RAG\n",
    "from LLMs import set_model\n",
    "total_cnt=0\n",
    "cnt=0\n",
    "preds=[]\n",
    "labels=[]\n",
    "name=\"llama3-8b-8192\"\n",
    "model = set_model(name)\n",
    "for data in test_ds:\n",
    "    question, answer, sentences = data['question'], data['answer'], data['context']['sentences']\n",
    "    print(f\"{total_cnt+1}/{len(test_ds)} Question: {question}\")\n",
    "    subQuestions=questionDecompose(model, question)\n",
    "    print(f\"subQuestions: {subQuestions}\")\n",
    "    fine_grained_context=\"\"\n",
    "    relevance_num=set()\n",
    "    context=\"\"\n",
    "    context_dict={}\n",
    "    for idx, sent_ls in enumerate(sentences):\n",
    "        context+=f\"{idx}. \"\n",
    "        context+=\" \".join(sent_ls)\n",
    "        context_dict[idx] = \" \".join(sent_ls)\n",
    "        context+='\\n\\n'\n",
    "    \n",
    "    # extract evidence number\n",
    "    for subQ in subQuestions:\n",
    "        num = evidenceExtractor(model, context, context_dict, question)\n",
    "        relevance_num.add(num)\n",
    "\n",
    "    # generate find_grained_context\n",
    "    relevance_num = list(relevance_num)\n",
    "    for num in relevance_num:\n",
    "        fine_grained_context+=context_dict[num]\n",
    "        fine_grained_context+='\\n\\n'\n",
    "\n",
    "    pred = run_RAG(model=model, context=fine_grained_context, question=question)\n",
    "    preds.append(pred)\n",
    "    labels.append(answer)\n",
    "    print(f\"pred: {pred}\\tlabel: {answer}\")\n",
    "    if pred == answer:\n",
    "        cnt+=1\n",
    "    total_cnt+=1\n"
   ]
  },
  {
   "cell_type": "code",
   "execution_count": null,
   "metadata": {},
   "outputs": [],
   "source": []
  }
 ],
 "metadata": {
  "kernelspec": {
   "display_name": "rp2",
   "language": "python",
   "name": "python3"
  },
  "language_info": {
   "codemirror_mode": {
    "name": "ipython",
    "version": 3
   },
   "file_extension": ".py",
   "mimetype": "text/x-python",
   "name": "python",
   "nbconvert_exporter": "python",
   "pygments_lexer": "ipython3",
   "version": "3.9.19"
  }
 },
 "nbformat": 4,
 "nbformat_minor": 2
}
