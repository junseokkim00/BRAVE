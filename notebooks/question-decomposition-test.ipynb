{
 "cells": [
  {
   "cell_type": "code",
   "execution_count": 2,
   "metadata": {},
   "outputs": [
    {
     "name": "stderr",
     "output_type": "stream",
     "text": [
      "/home/junseokkim00/anaconda3/envs/rp2/lib/python3.9/site-packages/tqdm/auto.py:21: TqdmWarning: IProgress not found. Please update jupyter and ipywidgets. See https://ipywidgets.readthedocs.io/en/stable/user_install.html\n",
      "  from .autonotebook import tqdm as notebook_tqdm\n"
     ]
    }
   ],
   "source": [
    "from datasets import load_dataset\n",
    "from collections import defaultdict\n",
    "ds = load_dataset('hotpotqa/hotpot_qa', 'fullwiki', trust_remote_code=True)"
   ]
  },
  {
   "cell_type": "code",
   "execution_count": 3,
   "metadata": {},
   "outputs": [],
   "source": [
    "# ds_train_rm_distract\n",
    "import random\n",
    "\n",
    "k=100\n",
    "indices = random.sample(range(len(ds['train'])), k)\n",
    "test_ds = ds['train'].select(indices)\n"
   ]
  },
  {
   "cell_type": "code",
   "execution_count": 4,
   "metadata": {},
   "outputs": [],
   "source": [
    "from langchain_groq import ChatGroq\n",
    "from langchain.prompts import ChatPromptTemplate\n",
    "from dotenv import find_dotenv, load_dotenv\n",
    "import os\n",
    "\n",
    "load_dotenv(find_dotenv())\n",
    "os.environ['GROQ_API_KEY'] = os.getenv('GROQ_API_KEY')\n",
    "llm = ChatGroq(model='llama3-8b-8192')"
   ]
  },
  {
   "cell_type": "code",
   "execution_count": 17,
   "metadata": {},
   "outputs": [
    {
     "name": "stdout",
     "output_type": "stream",
     "text": [
      "['Where Rainbows End', 'Cecelia Ahern']\n",
      "1/100 Question: The author of \"Where Rainbows End\" was born in what city?\n",
      "['What is the name of the book?', 'Who is the author of the book?', 'In what city was the author born?'\n"
     ]
    },
    {
     "ename": "RuntimeError",
     "evalue": "No active exception to reraise",
     "output_type": "error",
     "traceback": [
      "\u001b[0;31m---------------------------------------------------------------------------\u001b[0m",
      "\u001b[0;31mRuntimeError\u001b[0m                              Traceback (most recent call last)",
      "Cell \u001b[0;32mIn[17], line 28\u001b[0m\n\u001b[1;32m     26\u001b[0m output \u001b[38;5;241m=\u001b[39m output[output\u001b[38;5;241m.\u001b[39mindex(\u001b[38;5;124m'\u001b[39m\u001b[38;5;124m[\u001b[39m\u001b[38;5;124m'\u001b[39m):output\u001b[38;5;241m.\u001b[39mindex(\u001b[38;5;124m'\u001b[39m\u001b[38;5;124m]\u001b[39m\u001b[38;5;124m'\u001b[39m)]\n\u001b[1;32m     27\u001b[0m \u001b[38;5;28mprint\u001b[39m(output)\n\u001b[0;32m---> 28\u001b[0m \u001b[38;5;28;01mraise\u001b[39;00m\n",
      "\u001b[0;31mRuntimeError\u001b[0m: No active exception to reraise"
     ]
    }
   ],
   "source": [
    "human_msg=\"\"\"You are an assistant for question decomposing. Decompose the given a complex question into a sub question that is simple. Try to minimize the number of sub questions. Also return your sub questions in a strict format of a single python list containing strings with sub question.\n",
    "\n",
    "Question: {question}\n",
    "\n",
    "Sub questions:\n",
    "\"\"\"\n",
    "total_cnt=0\n",
    "cnt=0\n",
    "pred_og=[]\n",
    "labels_og=[]\n",
    "for data in test_ds:\n",
    "    question, answer, sentences = data['question'], data['answer'], data['context']['sentences']\n",
    "    print(data['supporting_facts']['title'])\n",
    "    print(f\"{total_cnt+1}/{len(test_ds)} Question: {question}\")\n",
    "    context=\"\"\n",
    "    # for sent_ls in sentences:\n",
    "    #     context+=\" \".join(sent_ls)\n",
    "    #     context+='\\n\\n'\n",
    "    chat_prompt = ChatPromptTemplate.from_messages([\n",
    "        (\"user\", human_msg)\n",
    "    ])\n",
    "    chain = chat_prompt | llm\n",
    "    output = chain.invoke({\n",
    "        'question': question,\n",
    "    }).content\n",
    "    output = output[output.index('['):output.index(']')]\n",
    "    print(output)\n",
    "    raise\n",
    "\n",
    "# print(f\"exact_match: {cnt} / {total_cnt}\")\n",
    "    \n",
    "    \n"
   ]
  },
  {
   "cell_type": "code",
   "execution_count": null,
   "metadata": {},
   "outputs": [],
   "source": []
  }
 ],
 "metadata": {
  "kernelspec": {
   "display_name": "rp2",
   "language": "python",
   "name": "python3"
  },
  "language_info": {
   "codemirror_mode": {
    "name": "ipython",
    "version": 3
   },
   "file_extension": ".py",
   "mimetype": "text/x-python",
   "name": "python",
   "nbconvert_exporter": "python",
   "pygments_lexer": "ipython3",
   "version": "3.9.19"
  }
 },
 "nbformat": 4,
 "nbformat_minor": 2
}
