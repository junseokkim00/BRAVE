{
 "cells": [
  {
   "cell_type": "code",
   "execution_count": 1,
   "metadata": {},
   "outputs": [
    {
     "name": "stderr",
     "output_type": "stream",
     "text": [
      "/home/junseokkim00/anaconda3/envs/rp2/lib/python3.9/site-packages/tqdm/auto.py:21: TqdmWarning: IProgress not found. Please update jupyter and ipywidgets. See https://ipywidgets.readthedocs.io/en/stable/user_install.html\n",
      "  from .autonotebook import tqdm as notebook_tqdm\n"
     ]
    }
   ],
   "source": [
    "from datasets import load_dataset\n",
    "from collections import defaultdict\n",
    "ds = load_dataset('hotpotqa/hotpot_qa', 'fullwiki', trust_remote_code=True)"
   ]
  },
  {
   "cell_type": "code",
   "execution_count": 2,
   "metadata": {},
   "outputs": [],
   "source": [
    "# ds_train_rm_distract\n",
    "import random\n",
    "\n",
    "k=100\n",
    "indices = random.sample(range(len(ds['train'])), k)\n",
    "test_ds = ds['train'].select(indices)\n"
   ]
  },
  {
   "cell_type": "code",
   "execution_count": 3,
   "metadata": {},
   "outputs": [],
   "source": [
    "from langchain_groq import ChatGroq\n",
    "from langchain.prompts import ChatPromptTemplate\n",
    "from dotenv import find_dotenv, load_dotenv\n",
    "import os\n",
    "\n",
    "load_dotenv(find_dotenv())\n",
    "os.environ['GROQ_API_KEY'] = os.getenv('GROQ_API_KEY')\n",
    "llm = ChatGroq(model='llama3-8b-8192')"
   ]
  },
  {
   "cell_type": "code",
   "execution_count": 9,
   "metadata": {},
   "outputs": [
    {
     "name": "stdout",
     "output_type": "stream",
     "text": [
      "['Gary Halvorson', 'Alejandro Amenábar']\n",
      "1/100 Question: Gary Halvorson and Alejandro Amenábar, have which occupation in common?\n",
      "context:\n",
      " 0. The Sea Inside (Spanish: \"Mar adentro\" ) is a 2004 Spanish drama film written, produced, directed, and scored by Alejandro Amenábar, which won the Academy Award for Best Foreign Language Film.  It is based on the real-life story of Ramón Sampedro (played by Javier Bardem), who was left quadriplegic after a diving accident, and his 28-year campaign in support of euthanasia and the right to end his life.\n",
      "\n",
      "1. Tesis (\"Thesis\") is a 1996 Spanish thriller film.  It is the feature debut of director Alejandro Amenábar, and was written by Amenabar and Mateo Gil.  The film was made while he was still studying at Universidad Complutense in Madrid The movie won seven 1996 Goya Awards, including the award for Best Film, Best Original Screenplay, and Best Director.  It stars Ana Torrent, Fele Martínez and Eduardo Noriega.\n",
      "\n",
      "2. Agora (Spanish: \"Ágora\" ) is a 2009 Spanish English-language historical drama film directed by Alejandro Amenábar and written by Amenábar and Mateo Gil.  The biopic stars Rachel Weisz as Hypatia, a female mathematician, philosopher and astronomer in late 4th-century Roman Egypt, who investigates the flaws of the geocentric Ptolemaic system and the heliocentric model that challenges it.  Surrounded by religious turmoil and social unrest, Hypatia struggles to save the knowledge of classical antiquity from destruction.  Max Minghella co-stars as Davus, Hypatia's father's slave, and Oscar Isaac as Hypatia's student, and later prefect of Alexandria, Orestes.\n",
      "\n",
      "3. The Adventures of Elmo in Grouchland is a 1999 American-German musical fantasy-comedy film directed by Gary Halvorson.  It is the second theatrical feature-length film based on the popular U.S. children's series \"Sesame Street\", the first being \"Sesame Street Presents Follow That Bird\" in 1985.  Produced by Jim Henson Pictures in association with Sesame Workshop and released by Columbia Pictures on October 1, 1999, the film co-stars Mandy Patinkin and Vanessa Williams.  The film was shot in Wilmington, North Carolina, at EUE/Screen Gems in 1998.  This is one of the few \"Sesame Street\" productions directly produced by Jim Henson Pictures.  Alongside \"Muppets from Space\", this the final Muppet-themed feature film to have the involvement of Frank Oz, who retired from being a full-time puppeteer the following year.\n",
      "\n",
      "4. Vanilla Sky is a 2001 American science fiction psychological thriller film directed, written, and co-produced by Cameron Crowe.  It is an English-language adaptation of Alejandro Amenábar's 1997 Spanish film \"Open Your Eyes\", which was written by Amenábar and Mateo Gil, with Penélope Cruz reprising her role from the original film.  The film has been described as \"an odd mixture of science fiction, romance and reality warp\".\n",
      "\n",
      "5. Eduardo Noriega Gómez (] ; born 1 August 1973) is a Spanish film actor.  He is perhaps best known for his roles in two of Alejandro Amenábar's films: the multiple Goya Award-winning \"Tesis\" (English: \"Thesis\" ) (1996) and \"Open Your Eyes\" (Spanish: 'Abre los Ojos' ) (1997).  He also starred in \"The Wolf\" (Spanish: \"El Lobo\") (2004).  In the United States, Noriega is probably best known for his role as Enrique in the political thriller \"Vantage Point\" (2008).\n",
      "\n",
      "6. \"Italy\" is the two-part season five premiere of the American television sitcom \"Everybody Loves Raymond\".  Constituting the 100th and 101st overall episodes of the series, they were written by the creator Philip Rosenthal and directed by Gary Halvorson.  In this episode of the show, which revolves around the life of Italian-American \"Newsday\" sportswriter Raymond Barone and his oddball family, his parents, Marie and Frank, announce that they're all going to Italy to visit the former's cousin Colletta, and everyone is excited to go except Raymond.  Meanwhile, during the trip, Ray's brother Robert is attracted to a woman named Stefania, and tries to get past her father Signore Focagnolo to meet her.  With part one originally airing on October 2, 2000 and the concluding half on October 9, both on CBS, the episode has earned positive reviews from critics and received a Writers Guild of America Award.\n",
      "\n",
      "7. Alejandro Fernando Amenábar Cantos (born March 31, 1972), commonly known as Alejandro Amenábar, is a Spanish and Chilean film director, screenwriter and composer.  Among other honors, he has won nine Goyas, two European Film Awards and an Oscar.  He has written or co-written the screenplays to all six of his movies and composed almost all of the soundtracks.\n",
      "\n",
      "8. Gary Halvorson is an American director of television shows, series and film.\n",
      "\n",
      "9. Guy Hendrix Dyas (born 20 August 1968) is a British production designer for feature films.  He collaborated with Christopher Nolan on his science fiction thriller \"Inception\" which earned him an Academy Award nomination as well as a BAFTA Award for Best Production Design.  In 2017, Dyas was nominated for another Academy Award, this time for his work on Passengers.  In 2010, Dyas became the first British designer to win a Goya Award for Best Production Design for his work on Alejandro Amenábar's historical epic \"Agora\" which premiered at the 2009 Cannes Film Festival.  Dyas previously received three consecutive Art Directors Guild Award nominations for his production design work on Steven Spielberg's \"Indiana Jones and the Kingdom of the Crystal Skull\", Shekhar Kapur's \"\" and \"Superman Returns\" for Bryan Singer.  He won an ADG award in 2011 for \"Inception\".  He also earned a BAFTA Award nomination in 2007 for Best Production Design for \"Elizabeth: The Golden Age\" and for four years in a row Dyas has been named by \"The Sunday Times\" as one of the top ten Brits working behind the camera in Hollywood.\n",
      "\n",
      "\n",
      "6 film director\n"
     ]
    },
    {
     "ename": "RuntimeError",
     "evalue": "No active exception to reraise",
     "output_type": "error",
     "traceback": [
      "\u001b[0;31m---------------------------------------------------------------------------\u001b[0m",
      "\u001b[0;31mRuntimeError\u001b[0m                              Traceback (most recent call last)",
      "Cell \u001b[0;32mIn[9], line 43\u001b[0m\n\u001b[1;32m     38\u001b[0m final_output \u001b[38;5;241m=\u001b[39m chain_ans\u001b[38;5;241m.\u001b[39minvoke({\n\u001b[1;32m     39\u001b[0m     \u001b[38;5;124m'\u001b[39m\u001b[38;5;124mquestion\u001b[39m\u001b[38;5;124m'\u001b[39m: question,\n\u001b[1;32m     40\u001b[0m     \u001b[38;5;124m'\u001b[39m\u001b[38;5;124mcontext\u001b[39m\u001b[38;5;124m'\u001b[39m: context\n\u001b[1;32m     41\u001b[0m })\n\u001b[1;32m     42\u001b[0m \u001b[38;5;28mprint\u001b[39m(final_output\u001b[38;5;241m.\u001b[39mcontent, answer)\n\u001b[0;32m---> 43\u001b[0m \u001b[38;5;28;01mraise\u001b[39;00m\n",
      "\u001b[0;31mRuntimeError\u001b[0m: No active exception to reraise"
     ]
    }
   ],
   "source": [
    "human_msg=\"\"\"You are an assistant for extracting evidence. Choose the best context that helps you to solve the given question. You should only pick a single context. Also return your choice in a number that indicates the passage, which are numerical values.\n",
    "\n",
    "Question: {question}\n",
    "\n",
    "Context: {context}\n",
    "\n",
    "Best context:\n",
    "\"\"\"\n",
    "total_cnt=0\n",
    "cnt=0\n",
    "pred_og=[]\n",
    "labels_og=[]\n",
    "for data in test_ds:\n",
    "    question, answer, sentences = data['question'], data['answer'], data['context']['sentences']\n",
    "    print(data['supporting_facts']['title'])\n",
    "    print(f\"{total_cnt+1}/{len(test_ds)} Question: {question}\")\n",
    "    context=\"\"\n",
    "    context_dict={}\n",
    "    for idx, sent_ls in enumerate(sentences):\n",
    "        context+=f\"{idx}. \"\n",
    "        context+=\" \".join(sent_ls)\n",
    "        context_dict[idx] = \" \".join(sent_ls)\n",
    "        context+='\\n\\n'\n",
    "    print(f\"context:\\n {context}\")\n",
    "    chat_prompt = ChatPromptTemplate.from_messages([\n",
    "        (\"user\", human_msg)\n",
    "    ])\n",
    "    chain = chat_prompt | llm\n",
    "    output = chain.invoke({\n",
    "        'question': question,\n",
    "        'context': context\n",
    "    }).content\n",
    "    msg = human_msg + output + 'Now, please provide only the number that you chose without any explanation or preambles. '\n",
    "    answer_extraction = ChatPromptTemplate.from_messages([\n",
    "        (\"user\", msg)\n",
    "    ])\n",
    "    chain_ans = answer_extraction | llm\n",
    "    final_output = chain_ans.invoke({\n",
    "        'question': question,\n",
    "        'context': context\n",
    "    })\n",
    "    print(final_output.content, answer)\n",
    "    raise\n",
    "\n",
    "# print(f\"exact_match: {cnt} / {total_cnt}\")\n",
    "    \n",
    "    \n"
   ]
  },
  {
   "cell_type": "code",
   "execution_count": 11,
   "metadata": {},
   "outputs": [
    {
     "name": "stdout",
     "output_type": "stream",
     "text": [
      "['20']\n"
     ]
    }
   ],
   "source": [
    "import re\n",
    "\n",
    "output = re.findall('\\d+', \"20\")\n",
    "print(output)"
   ]
  },
  {
   "cell_type": "code",
   "execution_count": null,
   "metadata": {},
   "outputs": [],
   "source": []
  }
 ],
 "metadata": {
  "kernelspec": {
   "display_name": "rp2",
   "language": "python",
   "name": "python3"
  },
  "language_info": {
   "codemirror_mode": {
    "name": "ipython",
    "version": 3
   },
   "file_extension": ".py",
   "mimetype": "text/x-python",
   "name": "python",
   "nbconvert_exporter": "python",
   "pygments_lexer": "ipython3",
   "version": "3.9.19"
  }
 },
 "nbformat": 4,
 "nbformat_minor": 2
}
