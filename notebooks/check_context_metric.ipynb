{
 "cells": [
  {
   "cell_type": "code",
   "execution_count": 10,
   "metadata": {},
   "outputs": [],
   "source": [
    "import json\n",
    "with open('../brave_wo_QD_gpt-4o-mini_hotpotQA_train_k:100_seed:2024.jsonl', 'r') as f:\n",
    "# with open('../brave_me_gpt-4o-mini_hotpotQA_train_k:100_seed:2024.jsonl', 'r') as f:\n",
    "    lines = f.readlines()"
   ]
  },
  {
   "cell_type": "code",
   "execution_count": 11,
   "metadata": {},
   "outputs": [
    {
     "data": {
      "text/plain": [
       "(21, 100)"
      ]
     },
     "execution_count": 11,
     "metadata": {},
     "output_type": "execute_result"
    }
   ],
   "source": [
    "cnt=0\n",
    "total_cnt=0\n",
    "for line in lines:\n",
    "    data = json.loads(line)\n",
    "    if set(data['chosen_titles']) & set(data['gold_chosen_titles']):\n",
    "        cnt+=1\n",
    "    total_cnt+=1\n",
    "cnt, total_cnt\n"
   ]
  },
  {
   "cell_type": "code",
   "execution_count": null,
   "metadata": {},
   "outputs": [],
   "source": []
  }
 ],
 "metadata": {
  "kernelspec": {
   "display_name": "rp2",
   "language": "python",
   "name": "python3"
  },
  "language_info": {
   "codemirror_mode": {
    "name": "ipython",
    "version": 3
   },
   "file_extension": ".py",
   "mimetype": "text/x-python",
   "name": "python",
   "nbconvert_exporter": "python",
   "pygments_lexer": "ipython3",
   "version": "3.9.19"
  }
 },
 "nbformat": 4,
 "nbformat_minor": 2
}
